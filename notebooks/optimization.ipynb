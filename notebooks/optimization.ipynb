{
 "cells": [
  {
   "metadata": {},
   "cell_type": "markdown",
   "source": [
    "# Optimization\n",
    "***\n",
    "## Reference layer with simple sample"
   ],
   "id": "4289b9133a34e2bf"
  },
  {
   "metadata": {},
   "cell_type": "markdown",
   "source": "First import the necessary packages to describe a sample and perform optimization.",
   "id": "4e3844c297d6765e"
  },
  {
   "cell_type": "code",
   "id": "initial_id",
   "metadata": {
    "collapsed": true
   },
   "source": [
    "%matplotlib inline\n",
    "\n",
    "from refnx.reflect import SLD\n",
    "from refnx.analysis import Parameter\n",
    "from hogben.models.samples import Sample\n",
    "from hogben.optimise import optimise_parameters"
   ],
   "outputs": [],
   "execution_count": null
  },
  {
   "metadata": {},
   "cell_type": "markdown",
   "source": [
    "We need to define a structure to optimize, we do this using the `refnx` module.\n",
    "In this example, we're creating a structure consisting of a reference layer with three simple layers on top.\n",
    "We try to figure out what the best reference layer would be for this structure."
   ],
   "id": "c0461ddee3aad7fe"
  },
  {
   "metadata": {},
   "cell_type": "code",
   "source": [
    "def simple_sample():\n",
    "    \"\"\"Define a bilayer sample, and return the associated refnx model\"\"\"\n",
    "    \n",
    "    # Define the fitting parameters for the sample:\n",
    "    layer1_thick = Parameter(80, 'Layer 1 Thickness', (50, 120))\n",
    "    layer2_thick = Parameter(40, 'Layer 2 Thickness', (30, 50))\n",
    "    layer3_thick = Parameter(60, 'Layer 3 Thickness', (50, 120))    \n",
    "    layer1_rough = Parameter(4, 'Layer 1 Roughness', (2, 10))\n",
    "    layer2_rough = Parameter(5, 'Layer 2 Roughness', (2, 10))\n",
    "    layer3_rough = Parameter(3, 'Layer 3 Roughness', (50, 120))\n",
    "    \n",
    "    # Define the parameters for the reference layer that we want to optimize\n",
    "    ref_thick = Parameter(50, 'Reference layer Thickness', (0, 400))\n",
    "    ref_sld = Parameter(2, 'Reference layer SLD', (-1.9, 9.4))\n",
    "    \n",
    "    # Tell HOGBEN that these parameters should be optimized\n",
    "    ref_thick.optimize = True\n",
    "    ref_sld.optimize = True\n",
    "    \n",
    "    # Construct the layers\n",
    "    air = SLD(0, name='Air')(rough=3)\n",
    "    layer1 = SLD(6.5, name=\"Layer 1\")(thick=layer1_thick, rough=layer1_rough)\n",
    "    layer2 = SLD(1.5, name=\"Layer 2\")(thick=layer2_thick, rough=layer2_rough)\n",
    "    layer3 = SLD(4.5, name=\"Layer 3\")(thick=layer3_thick, rough=layer3_rough)\n",
    "    ref_layer = SLD(ref_sld, name=\"Reference Layer\")(thick=ref_thick, rough=3)\n",
    "    substrate = SLD(2.074, name='Substrate')(rough=3)\n",
    "\n",
    "    # Put all fitting parameters in a list\n",
    "    params = [\n",
    "        layer1_rough,\n",
    "        layer2_rough,\n",
    "        layer3_rough,\n",
    "        layer1_thick,\n",
    "        layer2_thick,\n",
    "        layer3_thick,\n",
    "    ]\n",
    "    \n",
    "    # Set all fitting parameters to be varying\n",
    "    for param in params:\n",
    "        param.vary = True\n",
    "    \n",
    "    # Create a structure, separating each layer with a `|`\n",
    "    sample = substrate | ref_layer | layer1 | layer2 | layer3 | air\n",
    "    return sample"
   ],
   "id": "c35aaf834b7d2e8c",
   "outputs": [],
   "execution_count": null
  },
  {
   "metadata": {},
   "cell_type": "markdown",
   "source": "Now we have defined a structure, but we still need to put this into a HOGBEN sample using the `Sample` class.",
   "id": "5e4ab0869b0dd6dc"
  },
  {
   "metadata": {},
   "cell_type": "code",
   "source": [
    "structure = simple_sample()\n",
    "sample = Sample(structure)"
   ],
   "id": "1975519b1d2b87f3",
   "outputs": [],
   "execution_count": null
  },
  {
   "metadata": {},
   "cell_type": "markdown",
   "source": [
    "Now we simple need define at what angles we measure, how long we measure, and how many data points we obtain at each angle.\n",
    "\n",
    "This is defined in a list for each angle, like `angle_times = [(angle, data_points, time), (angle2, data_points2, time2)]`"
   ],
   "id": "ece27272d2f48a3e"
  },
  {
   "metadata": {},
   "cell_type": "code",
   "source": [
    "angle_times = [(0.7, 100, 100),\n",
    "               (2.3, 100, 400),\n",
    "               ]    "
   ],
   "id": "5753a6316f2069e6",
   "outputs": [],
   "execution_count": null
  },
  {
   "metadata": {},
   "cell_type": "markdown",
   "source": "Now simply tell HOGBEN we want to optimize the parameters, we do this using `optimize_parameters`, giving the previously defined HOGBEN sample, and list of `angle_times` as input arguments:",
   "id": "8fc6daaadbc2d321"
  },
  {
   "metadata": {},
   "cell_type": "code",
   "source": "optimise_parameters(sample, angle_times)\n",
   "id": "bda212bda1b87d51",
   "outputs": [],
   "execution_count": null
  },
  {
   "metadata": {},
   "cell_type": "markdown",
   "source": "",
   "id": "32b345d80f1adfaa"
  },
  {
   "metadata": {},
   "cell_type": "markdown",
   "source": "## Optimizing for solvent",
   "id": "3dab3d4a0d689a85"
  },
  {
   "metadata": {},
   "cell_type": "markdown",
   "source": [
    "We can also optimize for a list of measurements at once. One typical example is when the same sample is measured twice in different solvents. In this case we can describe one structure for each measurement, and then optimize to the solvent SLD. When defining multiple measurements, the sample can be put in a list of structures.\n",
    "\n",
    "In this example, we imagine we have a structure consisting of three different layers on the substrate, measured in a certain solvent. We want to optimize the solvent SLD, such that we get most information possible about the SLD of each layer, the volume fraction of the solvent, and the structural properties of each layer. "
   ],
   "id": "b5362fc18ad223a2"
  },
  {
   "metadata": {},
   "cell_type": "code",
   "source": [
    "def solvent_sample():\n",
    "    \"\"\"Define a bilayer sample, and return the associated refnx model\"\"\"\n",
    "    \n",
    "    # Define the fitting parameters for the sample:   \n",
    "    layer1_thick = Parameter(15, 'Layer 1 Thickness', (10, 25))\n",
    "    layer2_thick = Parameter(28, 'Layer 2 Thickness', (20, 40))\n",
    "    layer3_thick = Parameter(16, 'Layer 3 Thickness', (10, 25))    \n",
    "    layer1_rough = Parameter(4, 'Layer 1 Roughness', (2, 10))\n",
    "    layer2_rough = Parameter(3, 'Layer 2 Roughness', (2, 10))\n",
    "    layer3_rough = Parameter(3, 'Layer 3 Roughness', (50, 120))\n",
    "    layer1_sld = Parameter(2.7, 'Layer 1 SLD', (1, 4))\n",
    "    layer2_sld = Parameter(0.1, 'Layer 1 SLD', (-0.5, 2))\n",
    "    layer3_sld = Parameter(3.0, 'Layer 1 SLD', (-1, 4))    \n",
    "    vfsolv1 = Parameter(0.5, 'Layer 1 volume solvent fraction', (0.4, 0.8))\n",
    "    vfsolv2 = Parameter(0.08, 'Layer 2 volume solvent fraction', (0.0, 0.8))\n",
    "    vfsolv3 = Parameter(0.82, 'Layer 3 volume solvent fraction', (0.6, 0.9))\n",
    "\n",
    "    \n",
    "    # Define the parameters for two different solvents, we allow this to vary between \n",
    "    # the SLD for H2O and D2O\n",
    "    solvent1_sld = Parameter(6.19, 'Solvent 1 SLD', (-0.52, 6.19))\n",
    "    solvent2_sld = Parameter(-0.5227, 'Solvent 2 SLD', (-0.52, 6.19))    \n",
    "    \n",
    "    # Tell HOGBEN that these parameters should be optimized\n",
    "    solvent2_sld.optimize = True\n",
    "    \n",
    "    # Construct the layers\n",
    "    solvent1 = SLD(solvent1_sld, name='Solvent 1')(rough=3)\n",
    "    solvent2 = SLD(solvent2_sld, name='Solvent 2')(rough=3)    \n",
    "    layer1 = SLD(layer1_sld, name=\"Layer 1\")(thick=layer1_thick, rough=layer1_rough, vfsolv=vfsolv1)\n",
    "    layer2 = SLD(layer2_sld, name=\"Layer 2\")(thick=layer2_thick, rough=layer2_rough, vfsolv=vfsolv2)\n",
    "    layer3 = SLD(layer3_sld, name=\"Layer 3\")(thick=layer3_thick, rough=layer3_rough, vfsolv=vfsolv3)\n",
    "    substrate = SLD(2.074, name='Substrate')(rough=3)\n",
    "\n",
    "    # Put all fitting parameters in a list\n",
    "    params = [\n",
    "        vfsolv1,\n",
    "        vfsolv2,\n",
    "        vfsolv3,\n",
    "        layer1_sld,\n",
    "        layer2_sld,\n",
    "        layer3_sld,\n",
    "    ]\n",
    "    \n",
    "    # Set all fitting parameters to be varying\n",
    "    for param in params:\n",
    "        param.vary = True\n",
    "    \n",
    "    # Create a structure, separating each layer with a `|`\n",
    "    sample1 = substrate | layer1 | layer2 | layer3 | solvent1\n",
    "    sample2 = substrate | layer1 | layer2 | layer3 | solvent2\n",
    "    \n",
    "    return [sample1, sample2]"
   ],
   "id": "23fdc2026754fe22",
   "outputs": [],
   "execution_count": null
  },
  {
   "metadata": {},
   "cell_type": "markdown",
   "source": "Now just as we did previously, we simply put the above structure in a HOGBEN sample using `Sample`. Then we need to define the `angle_times` object and tell HOGBEN to optimise the parameters.",
   "id": "d7b8a83a931fc805"
  },
  {
   "metadata": {},
   "cell_type": "code",
   "source": [
    "structures = solvent_sample()\n",
    "sample = Sample(structures)\n",
    "angle_times = [(0.7, 100, 100),\n",
    "               (2.3, 100, 400),\n",
    "               ]    \n",
    "optimise_parameters(sample, angle_times)\n"
   ],
   "id": "34f211ef2be27639",
   "outputs": [],
   "execution_count": null
  },
  {
   "metadata": {},
   "cell_type": "markdown",
   "source": "",
   "id": "cd6fff7c89361a9f"
  },
  {
   "metadata": {},
   "cell_type": "markdown",
   "source": "",
   "id": "77dfc1135c6f80fa"
  },
  {
   "metadata": {},
   "cell_type": "markdown",
   "source": [
    "## Optimising to both solvent and a reference layer\n",
    "\n",
    "We can combine any arbitrary set of parameters for the optimization. To add a reference layer, we would thus simply need to add another layer to the sample, and optimize for its properties. In this example, we assume the sample is measured in H2O twice, and want to determine what the best reference layer would be, and in what contrast we should measure for the second measurement."
   ],
   "id": "717fefa7ce68cce8"
  },
  {
   "metadata": {},
   "cell_type": "code",
   "source": [
    "def solvent_ref_layer():\n",
    "    \"\"\"Define a bilayer sample, and return the associated refnx model\"\"\"\n",
    "    \n",
    "    # Define the fitting parameters for the sample:   \n",
    "    layer1_thick = Parameter(15, 'Layer 1 Thickness', (10, 25))\n",
    "    layer2_thick = Parameter(28, 'Layer 2 Thickness', (20, 40))\n",
    "    layer3_thick = Parameter(16, 'Layer 3 Thickness', (10, 25))    \n",
    "    layer1_rough = Parameter(4, 'Layer 1 Roughness', (2, 10))\n",
    "    layer2_rough = Parameter(3, 'Layer 2 Roughness', (2, 10))\n",
    "    layer3_rough = Parameter(3, 'Layer 3 Roughness', (50, 120))\n",
    "    layer1_sld = Parameter(2.7, 'Layer 1 SLD', (1, 4))\n",
    "    layer2_sld = Parameter(0.1, 'Layer 1 SLD', (-0.5, 2))\n",
    "    layer3_sld = Parameter(3.0, 'Layer 1 SLD', (-1, 4))    \n",
    "    vfsolv1 = Parameter(0.5, 'Layer 1 volume solvent fraction', (0.4, 0.8))\n",
    "    vfsolv2 = Parameter(0.08, 'Layer 2 volume solvent fraction', (0.0, 0.8))\n",
    "    vfsolv3 = Parameter(0.82, 'Layer 3 volume solvent fraction', (0.6, 0.9))\n",
    "\n",
    "    \n",
    "    # Define the parameters for the reference layer that we want to optimize\n",
    "    solvent1_sld = Parameter(6.19, 'Solvent 1 SLD', (-0.52, 6.19))\n",
    "    solvent2_sld = Parameter(-0.5227, 'Solvent 2 SLD', (-0.52, 6.19))    \n",
    "    ref_thick = Parameter(50, 'Reference layer Thickness', (0, 400))\n",
    "    ref_sld = Parameter(2, 'Reference layer SLD', (-1.9, 9.4))\n",
    "    \n",
    "    # Tell HOGBEN that these parameters should be optimized\n",
    "    ref_thick.optimize = True\n",
    "    ref_sld.optimize = True\n",
    "    solvent1_sld.optimize = True\n",
    "    \n",
    "    # Construct the layers\n",
    "    solvent1 = SLD(solvent1_sld, name='Solvent 1')(rough=3)\n",
    "    solvent2 = SLD(solvent2_sld, name='Solvent 2')(rough=3)    \n",
    "    layer1 = SLD(layer1_sld, name=\"Layer 1\")(thick=layer1_thick, rough=layer1_rough, vfsolv=vfsolv1)\n",
    "    layer2 = SLD(layer2_sld, name=\"Layer 2\")(thick=layer2_thick, rough=layer2_rough, vfsolv=vfsolv2)\n",
    "    layer3 = SLD(layer3_sld, name=\"Layer 3\")(thick=layer3_thick, rough=layer3_rough, vfsolv=vfsolv3)\n",
    "    ref_layer = SLD(ref_sld, name=\"Reference Layer\")(thick=ref_thick, rough=3)    \n",
    "    substrate = SLD(2.074, name='Substrate')(rough=3)\n",
    "\n",
    "    # Put all fitting parameters in a list\n",
    "    params = [\n",
    "        vfsolv1,\n",
    "        vfsolv2,\n",
    "        vfsolv3,\n",
    "        layer1_sld,\n",
    "        layer2_sld,\n",
    "        layer3_sld,\n",
    "    ]\n",
    "    \n",
    "    # Set all fitting parameters to be varying\n",
    "    for param in params:\n",
    "        param.vary = True\n",
    "    \n",
    "    # Create a structure, separating each layer with a `|`\n",
    "    sample1 = substrate | ref_layer | layer1 | layer2 | layer3 | solvent1\n",
    "    sample2 = substrate | ref_layer | layer1 | layer2 | layer3 | solvent2\n",
    "    \n",
    "    return [sample1, sample2]"
   ],
   "id": "d7df5e2cd043e5a4",
   "outputs": [],
   "execution_count": null
  },
  {
   "metadata": {},
   "cell_type": "markdown",
   "source": "Now just as we did previously, we simply put the above structure in a HOGBEN sample using `Sample`. Then we need to define the `angle_times` object and tell HOGBEN to optimise the parameters.\n",
   "id": "66aa068983ec9b49"
  },
  {
   "metadata": {},
   "cell_type": "code",
   "source": [
    "structures = solvent_ref_layer()\n",
    "sample = Sample(structures)\n",
    "angle_times = [(0.7, 100, 100),\n",
    "               (2.3, 100, 400),\n",
    "               ]    \n",
    "optimise_parameters(sample, angle_times)\n"
   ],
   "id": "7df0f1ad78e9753a",
   "outputs": [],
   "execution_count": null
  }
 ],
 "metadata": {
  "kernelspec": {
   "display_name": "Python 3",
   "language": "python",
   "name": "python3"
  },
  "language_info": {
   "codemirror_mode": {
    "name": "ipython",
    "version": 2
   },
   "file_extension": ".py",
   "mimetype": "text/x-python",
   "name": "python",
   "nbconvert_exporter": "python",
   "pygments_lexer": "ipython2",
   "version": "2.7.6"
  }
 },
 "nbformat": 4,
 "nbformat_minor": 5
}
