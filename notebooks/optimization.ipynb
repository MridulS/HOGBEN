{
 "cells": [
  {
   "cell_type": "code",
   "id": "initial_id",
   "metadata": {
    "collapsed": true,
    "ExecuteTime": {
     "end_time": "2024-05-27T09:05:35.993114Z",
     "start_time": "2024-05-27T09:05:35.181903Z"
    }
   },
   "source": [
    "\n",
    "\n",
    "import copy\n",
    "%matplotlib inline\n",
    "\n",
    "import refnx\n",
    "from refnx.reflect import SLD\n",
    "from refnx.analysis import Parameter\n",
    "from hogben.models.samples import Sample\n",
    "from hogben.optimise import optimise_parameters\n",
    "from hogben.models.bilayers import BilayerDPPC\n",
    "from hogben.utils import Fisher\n"
   ],
   "outputs": [],
   "execution_count": 1
  },
  {
   "metadata": {
    "ExecuteTime": {
     "end_time": "2024-05-27T09:06:20.177865Z",
     "start_time": "2024-05-27T09:06:20.150258Z"
    }
   },
   "cell_type": "code",
   "source": [
    "def simple_sample():\n",
    "    \"\"\"Define a bilayer sample, and return the associated refnx model\"\"\"\n",
    "    # Define sample\n",
    "\n",
    "    layer1_thick = Parameter(70, 'Layer1 thickness', (50, 90))\n",
    "    layer2_thick = Parameter(40, 'Layer2 thickness', (30, 50))\n",
    "    layer1_rough = Parameter(5, 'Layer1 Roughness', (2, 10))\n",
    "    layer2_rough = Parameter(6, 'Layer2 roughness', (2, 10))\n",
    "\n",
    "    ul_thick = Parameter(125, 'Underlayer Thickness', (0, 250))\n",
    "    ul_sld = Parameter(4, 'Underlayer SLD', (1.5, 7))\n",
    "\n",
    "    air = refnx.reflect.SLD(0, name='Air')    \n",
    "\n",
    "    layer1 = SLD(6.5, name=\"Layer 1\")(thick=layer1_thick, rough=layer1_rough)\n",
    "    layer2 = SLD(1.5, name=\"Layer 2\")(thick=layer2_thick, rough=layer2_rough)\n",
    "    underlayer = SLD(ul_sld, name=\"Underlayer SLD\")(thick=ul_thick, rough=0)\n",
    "\n",
    "    substrate = SLD(2.074, name='Substrate')(rough=5)\n",
    "\n",
    "\n",
    "    params = [\n",
    "        layer1_thick,\n",
    "        layer2_thick,\n",
    "        layer1_rough,\n",
    "        layer2_rough,\n",
    "    ]\n",
    "\n",
    "    for param in params:\n",
    "        param.vary = True\n",
    "\n",
    "    optimize = [\n",
    "       ul_thick,\n",
    "       ul_sld,\n",
    "    ]\n",
    "\n",
    "    for params in optimize:\n",
    "        params.optimize = True\n",
    "\n",
    "    sample = air | layer2 | layer1 | layer2 | underlayer | substrate\n",
    "    return sample\n",
    "structure = simple_sample()\n",
    "print(type(structure))\n",
    "sample = Sample(simple_sample())"
   ],
   "id": "ed681974f9301b00",
   "outputs": [
    {
     "name": "stdout",
     "output_type": "stream",
     "text": [
      "<class 'refnx.reflect.structure.Structure'>\n"
     ]
    },
    {
     "ename": "TypeError",
     "evalue": "Can't instantiate abstract class Sample with abstract methods reflectivity_profile, sld_profile",
     "output_type": "error",
     "traceback": [
      "\u001B[0;31m---------------------------------------------------------------------------\u001B[0m",
      "\u001B[0;31mTypeError\u001B[0m                                 Traceback (most recent call last)",
      "Cell \u001B[0;32mIn[5], line 44\u001B[0m\n\u001B[1;32m     42\u001B[0m structure \u001B[38;5;241m=\u001B[39m simple_sample()\n\u001B[1;32m     43\u001B[0m \u001B[38;5;28mprint\u001B[39m(\u001B[38;5;28mtype\u001B[39m(structure))\n\u001B[0;32m---> 44\u001B[0m sample \u001B[38;5;241m=\u001B[39m \u001B[43mSample\u001B[49m\u001B[43m(\u001B[49m\u001B[43msimple_sample\u001B[49m\u001B[43m(\u001B[49m\u001B[43m)\u001B[49m\u001B[43m)\u001B[49m\n",
      "\u001B[0;31mTypeError\u001B[0m: Can't instantiate abstract class Sample with abstract methods reflectivity_profile, sld_profile"
     ]
    }
   ],
   "execution_count": 5
  },
  {
   "metadata": {},
   "cell_type": "code",
   "source": [
    "angle_times = [(0.7, 100, 100),\n",
    "               (2.3, 100, 400),\n",
    "               ]    \n",
    "sample.polarised = False\n",
    "optimise_parameters(sample, angle_times)"
   ],
   "id": "5753a6316f2069e6",
   "outputs": [],
   "execution_count": null
  },
  {
   "metadata": {},
   "cell_type": "code",
   "source": "",
   "id": "e2a3986e95ff0b43",
   "outputs": [],
   "execution_count": null
  },
  {
   "metadata": {},
   "cell_type": "code",
   "source": "",
   "id": "7d25d63253cb2cb",
   "outputs": [],
   "execution_count": null
  }
 ],
 "metadata": {
  "kernelspec": {
   "display_name": "Python 3",
   "language": "python",
   "name": "python3"
  },
  "language_info": {
   "codemirror_mode": {
    "name": "ipython",
    "version": 2
   },
   "file_extension": ".py",
   "mimetype": "text/x-python",
   "name": "python",
   "nbconvert_exporter": "python",
   "pygments_lexer": "ipython2",
   "version": "2.7.6"
  }
 },
 "nbformat": 4,
 "nbformat_minor": 5
}
