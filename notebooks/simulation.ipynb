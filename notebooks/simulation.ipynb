{
 "cells": [
  {
   "cell_type": "markdown",
   "metadata": {},
   "source": [
    "# Experimental Design\n",
    "***\n",
    "## Simulation"
   ]
  },
  {
   "cell_type": "markdown",
   "metadata": {},
   "source": [
    "Import the necessary packages and code for simulating an experiment."
   ]
  },
  {
   "cell_type": "code",
   "execution_count": null,
   "metadata": {},
   "outputs": [],
   "source": [
    "%matplotlib inline\n",
    "\n",
    "import numpy as np\n",
    "import os, sys\n",
    "\n",
    "from hogben.simulate import SimulateReflectivity\n",
    "\n",
    "# Reduce size of plots for the notebook.\n",
    "import matplotlib.pyplot as plt\n",
    "plt.rcParams['figure.figsize'] = (7,5)\n",
    "plt.rcParams['figure.dpi'] = 100"
   ]
  },
  {
   "cell_type": "markdown",
   "metadata": {},
   "source": [
    "Next, define the structure that we want to simulate. Here the structure has been defined using [refnx](https://refnx.readthedocs.io/)."
   ]
  },
  {
   "cell_type": "code",
   "execution_count": null,
   "metadata": {},
   "outputs": [],
   "source": [
    "from refnx.reflect import SLD, ReflectModel\n",
    "\n",
    "# Defines a structure describing a simple sample.\n",
    "air = SLD(0, name='Air')\n",
    "layer1 = SLD(4, name='Layer 1')(thick=100, rough=2)\n",
    "layer2 = SLD(8, name='Layer 2')(thick=150, rough=2)\n",
    "substrate = SLD(2.047, name='Substrate')(thick=0, rough=2)\n",
    "\n",
    "sample_1 = air | layer1 | layer2 | substrate\n",
    "\n",
    "\n",
    "# Convert the structure into a refnx model and add instrumental factors\n",
    "model_1 = ReflectModel(sample_1)\n",
    "\n",
    "model_1.scale = 1\n",
    "model_1.bkg = 1e-6\n",
    "model_1.dq = 2"
   ]
  },
  {
   "cell_type": "markdown",
   "metadata": {},
   "source": [
    "Here we see what the SLD profile of our simple structure looks like."
   ]
  },
  {
   "cell_type": "code",
   "execution_count": null,
   "metadata": {},
   "outputs": [],
   "source": [
    "fig = plt.figure()\n",
    "ax = fig.add_subplot(111)\n",
    "ax.plot(*sample_1.sld_profile(), color='black')\n",
    "ax.set_xlabel('$\\mathregular{Distance\\ (\\AA)}$', fontsize=11, weight='bold')\n",
    "ax.set_ylabel('$\\mathregular{SLD\\ (10^{-6} \\AA^{-2})}$', fontsize=11, weight='bold')\n",
    "plt.show()"
   ]
  },
  {
   "cell_type": "markdown",
   "metadata": {},
   "source": [
    "To simulate the structure, we need to define the counting times and number of points for each angle to simulate. We also specify the experimental scale factor, level of background noise and instrument resolution (in this case constant 2% $dQ/Q$)."
   ]
  },
  {
   "cell_type": "code",
   "execution_count": null,
   "metadata": {},
   "outputs": [],
   "source": [
    "angle_times = [(0.7, 100, 5),\n",
    "               (2.0, 100, 20)] # (Angle, Points, Time)\n",
    "\n",
    "instrument = 'OFFSPEC' # Options are 'INTER', 'OFFSPEC', 'POLREF' or 'SURF'\n",
    "\n",
    "\n",
    "# Simulate the experiment.\n",
    "data_1 = SimulateReflectivity(model_1, angle_times, instrument).simulate()"
   ]
  },
  {
   "cell_type": "markdown",
   "metadata": {},
   "source": [
    "We can now plot the simulated data together with the \"true\" model reflectivity. Note that this data is not stitched; the data from each individual angle has been plotted without any rebinning."
   ]
  },
  {
   "cell_type": "code",
   "execution_count": null,
   "metadata": {},
   "outputs": [],
   "source": [
    "def plot_reflectivity(model, data):\n",
    "    # Extract each column of the simulated `data`.\n",
    "    q, r, dr, counts = data[0], data[1],  data[2], data[3]\n",
    "\n",
    "    # Calculate the model reflectivity.\n",
    "    r_model = SimulateReflectivity(model, angle_times, instrument).reflectivity(q)\n",
    "\n",
    "    # Plot the model and simulated reflectivity against Q.\n",
    "    fig = plt.figure(figsize=[9,7])\n",
    "    ax = fig.add_subplot(111)\n",
    "\n",
    "    # Model reflectivity.\n",
    "    ax.plot(q, r_model, color='red', zorder=20, label='Model Reflectivity')\n",
    "\n",
    "    # Simulated reflectivity\n",
    "    ax.errorbar(q, r, dr, color='black', marker='o', ms=3, lw=0, elinewidth=1, capsize=1.5, label='Simulated Data')\n",
    "\n",
    "    ax.set_xlabel('$\\mathregular{Q\\ (Å^{-1})}$', fontsize=11, weight='bold')\n",
    "    ax.set_ylabel('Reflectivity (arb.)', fontsize=11, weight='bold')\n",
    "    ax.set_yscale('log')\n",
    "    ax.set_xlim(0, 0.3)\n",
    "    ax.legend()\n",
    "    plt.show()\n",
    "    \n",
    "plot_reflectivity(model_1, data_1)"
   ]
  }
 ],
 "metadata": {
  "kernelspec": {
   "display_name": "Python 3 (ipykernel)",
   "language": "python",
   "name": "python3"
  },
  "language_info": {
   "codemirror_mode": {
    "name": "ipython",
    "version": 3
   },
   "file_extension": ".py",
   "mimetype": "text/x-python",
   "name": "python",
   "nbconvert_exporter": "python",
   "pygments_lexer": "ipython3",
   "version": "3.11.4"
  }
 },
 "nbformat": 4,
 "nbformat_minor": 4
}
