{
 "cells": [
  {
   "cell_type": "markdown",
   "metadata": {},
   "source": [
    "# Experimental Design\n",
    "***\n",
    "## Magnetism\n",
    "\n",
    "We can also make use of magnetic layers in HOGBEN. The syntax is similar to the non-magnetic layers, and spin-states should be handled automatically. At the moment, the magnetic layers are completely defined in terms of their magnetic SLD."
   ]
  },
  {
   "cell_type": "markdown",
   "metadata": {},
   "source": "Import the necessary packages and code to use magnetic layers."
  },
  {
   "cell_type": "code",
   "metadata": {},
   "source": [
    "%matplotlib inline\n",
    "\n",
    "from refnx.reflect import SLD\n",
    "from refnx.analysis import Parameter\n",
    "from hogben.models.samples import Sample\n",
    "from hogben.models.base import MagneticSLD\n",
    "from hogben.optimise import optimise_parameters"
   ],
   "outputs": [],
   "execution_count": null
  },
  {
   "cell_type": "markdown",
   "metadata": {},
   "source": "We can create a magnetic layer using the `MagneticSLD` module in HOGBEN. The syntax mostly works the same as ordinary layers in `refnx`, with the difference that the magnetic part of the SLD should be given as a second argument in `MagneticSLD`. If no magnetic SLD is provided, the magnetic SLD defaults to 0. In this example, we will create a simple sample with a magnetic reference layer (MRL)."
  },
  {
   "cell_type": "code",
   "metadata": {},
   "source": [
    "def simple_sample():\n",
    "    \"\"\"Define a bilayer sample, and return the associated refnx model\"\"\"\n",
    "    \n",
    "    # Define the fitting parameters for the sample:\n",
    "    layer1_thick = Parameter(80, 'Layer 1 Thickness', (50, 120))\n",
    "    layer2_thick = Parameter(40, 'Layer 2 Thickness', (30, 50))\n",
    "    layer3_thick = Parameter(60, 'Layer 3 Thickness', (50, 120))    \n",
    "    \n",
    "    # Define the parameters for the reference layer that we want to optimize\n",
    "    ref_thick = Parameter(50, 'Reference layer Thickness', (0, 400))\n",
    "    ref_sld = Parameter(3, 'Reference layer SLD', (-1.9, 9.4))\n",
    "    ref_msld = Parameter(3, 'Reference layer Magnetic SLD', (0, 7))\n",
    "    \n",
    "    # Construct the layers\n",
    "    air = SLD(0, name='Air')\n",
    "    layer1 = SLD(6.5, name=\"Layer 1\")(thick=layer1_thick, rough=0)\n",
    "    layer2 = SLD(1.5, name=\"Layer 2\")(thick=layer2_thick, rough=0)\n",
    "    layer3 = SLD(4.5, name=\"Layer 3\")(thick=layer3_thick, rough=0)   \n",
    "    ref_layer_m = MagneticSLD(ref_sld, ref_msld, name=\"Layer 3\")(thick=ref_thick, rough=0)\n",
    "    substrate = SLD(2.074, name='Substrate')(rough=0)\n",
    "\n",
    "    # Create a structure, separating each layer with a `|`\n",
    "    structure = air | layer3 | layer2 | layer1 | ref_layer_m | substrate\n",
    "    return structure"
   ],
   "outputs": [],
   "execution_count": null
  },
  {
   "metadata": {},
   "cell_type": "markdown",
   "source": "We can now create our sample using the `Sample` module, and the spin-states are handled automatically. "
  },
  {
   "metadata": {},
   "cell_type": "code",
   "source": [
    "sample_structure = simple_sample()\n",
    "magnetic_sample = Sample(sample_structure)\n",
    "magnetic_sample.reflectivity_profile()\n",
    "magnetic_sample.sld_profile()"
   ],
   "outputs": [],
   "execution_count": null
  },
  {
   "metadata": {},
   "cell_type": "markdown",
   "source": "When initialising the sample, we can choose to turn the polarisation state on or off for the experiment. When the polarisation state is set to `False`, then the magnetic part of the SLD is not used at all. For example:"
  },
  {
   "metadata": {},
   "cell_type": "code",
   "source": [
    "magnetic_sample = Sample(sample_structure, polarised=False)\n",
    "magnetic_sample.reflectivity_profile()\n",
    "magnetic_sample.sld_profile()"
   ],
   "outputs": [],
   "execution_count": null
  },
  {
   "metadata": {},
   "cell_type": "markdown",
   "source": [
    "## Setting instrument settings\n",
    "\n",
    "We can also set the instrument settings for the sample. We can set the background, resolution and scale using `bkg`, `dq` and `scale` respectively. See the example below: "
   ]
  },
  {
   "metadata": {},
   "cell_type": "code",
   "source": [
    "sample_structure = simple_sample()\n",
    "magnetic_sample = Sample(sample_structure, bkg=5e-6, dq=2, scale=1.2, polarised=False)\n",
    "magnetic_sample.reflectivity_profile()\n",
    "magnetic_sample.sld_profile()"
   ],
   "outputs": [],
   "execution_count": null
  },
  {
   "metadata": {},
   "cell_type": "markdown",
   "source": "When no value is provided, a default value of `5e-6`, `2` and `1` will be used for the background, resolution and scaling respectively."
  },
  {
   "metadata": {},
   "cell_type": "markdown",
   "source": [
    "### Setting instrument settings with multiple structures\n",
    "\n",
    "If we use multiple structures, for example when measuring the same sample in two different ambients, then we can use a different setting for each structure by providing these as a list. See the example below, where we define a sample with two structures:"
   ]
  },
  {
   "metadata": {},
   "cell_type": "code",
   "source": [
    "def simple_sample_two_structures():\n",
    "    \"\"\"Define a bilayer sample, and return the associated refnx model\"\"\"\n",
    "    \n",
    "    # Define the fitting parameters for the sample:\n",
    "    layer1_thick = Parameter(80, 'Layer 1 Thickness', (50, 120))\n",
    "    layer2_thick = Parameter(40, 'Layer 2 Thickness', (30, 50))\n",
    "    layer3_thick = Parameter(60, 'Layer 3 Thickness', (50, 120))    \n",
    "    \n",
    "    # Define the parameters for the reference layer that we want to optimize\n",
    "    ref_thick = Parameter(50, 'Reference layer Thickness', (0, 400))\n",
    "    ref_sld = Parameter(3, 'Reference layer SLD', (-1.9, 9.4))\n",
    "    ref_msld = Parameter(3, 'Reference layer Magnetic SLD', (0, 7))\n",
    "    \n",
    "    # Construct the layers\n",
    "    H2O = SLD(-0.52, name='H2O')\n",
    "    D2O = SLD(6.19, name='D2O')    \n",
    "    layer1 = SLD(6.5, name=\"Layer 1\")(thick=layer1_thick, rough=0)\n",
    "    layer2 = SLD(1.5, name=\"Layer 2\")(thick=layer2_thick, rough=0)\n",
    "    layer3 = SLD(4.5, name=\"Layer 3\")(thick=layer3_thick, rough=0)   \n",
    "    ref_layer_m = MagneticSLD(ref_sld, ref_msld, name=\"Layer 3\")(thick=ref_thick, rough=0)\n",
    "    substrate = SLD(2.074, name='Substrate')(rough=0)\n",
    "\n",
    "    # Create a structure, separating each layer with a `|`\n",
    "    structure_H2O = H2O | layer3 | layer2 | layer1 | ref_layer_m | substrate\n",
    "    structure_D2O = D2O | layer3 | layer2 | layer1 | ref_layer_m | substrate\n",
    "    \n",
    "    return [structure_H2O, structure_D2O]"
   ],
   "outputs": [],
   "execution_count": null
  },
  {
   "metadata": {},
   "cell_type": "markdown",
   "source": [
    "The sample can be initiated as usual. If we want to use different settings for each structure, for instance using different backgrounds when measured in H2O as to measured in D2O, then the settings can be given as a list in the same order as the order in which the structures were given. Alternatively, a single value can be given to use the same value for each structure.\n",
    "\n",
    "Additionally, a list of labels can be given for each structure to be used in the legend using the `labels` attribute, if the labels are not set a label will be generated automatically."
   ]
  },
  {
   "metadata": {},
   "cell_type": "code",
   "source": [
    "sample_structure = simple_sample_two_structures()\n",
    "magnetic_sample = Sample(sample_structure, bkg=[2e-6, 4e-6], dq=2, scale=1.2, labels=['H2O Solvent', 'D2O Solvent'])\n",
    "magnetic_sample.reflectivity_profile()\n",
    "magnetic_sample.sld_profile()"
   ],
   "outputs": [],
   "execution_count": null
  },
  {
   "cell_type": "markdown",
   "metadata": {},
   "source": [
    "## Fisher optimization of magnetic multilayers\n",
    "\n",
    "Working with magnetic layers works exactly the same as non-magnetic layers. Magnetic parameters can thus also be optimized. \n",
    "For these optimizations, the experiment is simulated twice with equal measuring time in the spin-up as well as in the spin-down direction. As a simple approximation, the neutron flux is halved for polarised experiments, since most polarisation methods lose at least half the neutrons. We also make the (often untrue) assumption that the sample is under-illuminated, so the flux would need to be scaled appropriately for accurate values. All ratios of times will be accurate however.\n",
    "\n",
    "In this example, we have a material consisting of three layers and a magnetic reference layer (MRL). Here we try to predict the ideal MRL in order to get the most information about the roughness and thickness of the three layers on top.  "
   ]
  },
  {
   "cell_type": "code",
   "metadata": {},
   "source": [
    "def simple_sample_MRL():\n",
    "    \"\"\"Define a bilayer sample, and return the associated refnx model\"\"\"\n",
    "    \n",
    "    # Define the fitting parameters for the sample:\n",
    "    layer1_thick = Parameter(80, 'Layer 1 Thickness', (50, 120))\n",
    "    layer2_thick = Parameter(40, 'Layer 2 Thickness', (30, 50))\n",
    "    layer3_thick = Parameter(60, 'Layer 3 Thickness', (50, 120))    \n",
    "    layer1_rough = Parameter(4, 'Layer 1 Roughness', (2, 10))\n",
    "    layer2_rough = Parameter(5, 'Layer 2 Roughness', (2, 10))\n",
    "    layer3_rough = Parameter(3, 'Layer 3 Roughness', (50, 120))\n",
    "    \n",
    "    # Define the parameters for the reference layer that we want to optimize\n",
    "    ref_thick = Parameter(0, 'Reference layer Thickness', (0, 200))\n",
    "    ref_sld = Parameter(3, 'Reference layer Nuclear SLD', (0, 9.4))\n",
    "    ref_msld = Parameter(3, 'Reference layer Magnetic SLD', (0, 7))\n",
    "\n",
    "    # Tell HOGBEN that these parameters should be optimized\n",
    "    ref_thick.optimize = True\n",
    "    ref_sld.optimize = True\n",
    "    ref_msld.optimize = True\n",
    "    \n",
    "    # Construct the layers\n",
    "    air = SLD(0, name='Air')\n",
    "    layer1 = SLD(6.5, name=\"Layer 1\")(thick=layer1_thick, rough=layer1_rough)\n",
    "    layer2 = SLD(1.5, name=\"Layer 2\")(thick=layer2_thick, rough=layer2_rough)\n",
    "    layer3 = SLD(4.5, name=\"Layer 3\")(thick=layer3_thick, rough=layer3_rough)   \n",
    "    ref_layer_m = MagneticSLD(ref_sld, ref_msld, name = \"Reference layer\")(thick=ref_thick, rough=0)\n",
    "\n",
    "    substrate = SLD(2.074, name='Substrate')(rough=0)\n",
    "\n",
    "    # Put all fitting parameters in a list\n",
    "    params = [\n",
    "        layer1_rough,\n",
    "        layer2_rough,\n",
    "        layer3_rough,\n",
    "        layer1_thick,\n",
    "        layer2_thick,\n",
    "        layer3_thick,\n",
    "    ]\n",
    "    \n",
    "    # Set all fitting parameters to be varying\n",
    "    for param in params:\n",
    "        param.vary = True\n",
    "    \n",
    "    # Create a structure, separating each layer with a `|`\n",
    "    structure = air | layer3 | layer2 | layer1 | ref_layer_m | substrate\n",
    "    return structure"
   ],
   "outputs": [],
   "execution_count": null
  },
  {
   "metadata": {},
   "cell_type": "markdown",
   "source": "Now we can simply create a sample using the defined structure, and perform Fisher optimization using `optimise_parameters`."
  },
  {
   "metadata": {},
   "cell_type": "code",
   "source": [
    "sample_structure = simple_sample_MRL()\n",
    "magnetic_sample = Sample(sample_structure, polarised=True)\n",
    "angle_times = [(0.4, 100, 100),\n",
    "               (2.3, 100, 400),\n",
    "               ]    \n",
    "optimise_parameters(magnetic_sample, angle_times)"
   ],
   "outputs": [],
   "execution_count": null
  },
  {
   "cell_type": "markdown",
   "metadata": {},
   "source": "We can do the same optimization as well for an unpolarised experiment, this can be simply done by initialising the sample with `polarised=False`, or alternatively setting `magnetic_sample.polarised = False` after it has been initialized. "
  },
  {
   "metadata": {},
   "cell_type": "code",
   "source": [
    "sample_structure = simple_sample_MRL()\n",
    "magnetic_sample = Sample(sample_structure, polarised=False)\n",
    "angle_times = [(0.4, 100, 100),\n",
    "               (2.3, 100, 400),\n",
    "               ]\n",
    "optimise_parameters(magnetic_sample, angle_times)"
   ],
   "outputs": [],
   "execution_count": null
  }
 ],
 "metadata": {
  "kernelspec": {
   "display_name": "Python 3 (ipykernel)",
   "language": "python",
   "name": "python3"
  },
  "language_info": {
   "codemirror_mode": {
    "name": "ipython",
    "version": 3
   },
   "file_extension": ".py",
   "mimetype": "text/x-python",
   "name": "python",
   "nbconvert_exporter": "python",
   "pygments_lexer": "ipython3",
   "version": "3.10"
  }
 },
 "nbformat": 4,
 "nbformat_minor": 4
}
